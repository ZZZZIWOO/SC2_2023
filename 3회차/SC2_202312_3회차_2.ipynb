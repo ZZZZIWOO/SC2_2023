{
  "nbformat": 4,
  "nbformat_minor": 0,
  "metadata": {
    "colab": {
      "provenance": []
    },
    "kernelspec": {
      "name": "python3",
      "display_name": "Python 3"
    },
    "language_info": {
      "name": "python"
    }
  },
  "cells": [
    {
      "cell_type": "markdown",
      "source": [
        "# TensorFlow로 ANN 시작하기"
      ],
      "metadata": {
        "id": "-5tldUu0CFuG"
      }
    },
    {
      "cell_type": "code",
      "execution_count": null,
      "metadata": {
        "id": "Fy87cJCLCC3z"
      },
      "outputs": [],
      "source": [
        "import numpy as np\n",
        "import tensorflow as tf\n",
        "import matplotlib.pyplot as plt\n",
        "\n",
        "from tensorflow.keras.models import Sequential\n",
        "from tensorflow.keras.layers import Dense\n",
        "from tensorflow.keras.optimizers import SGD\n",
        "from tensorflow.keras.losses import mse\n",
        "\n",
        "tf.random.set_seed(1234) #random seed 설정\n"
      ]
    },
    {
      "cell_type": "code",
      "source": [
        "# 연습용 데이터\n",
        "x = np.array([[0,0],[1,0],[0,1],[1,1]])\n",
        "y = np.array([[0],[1],[1],[1]])"
      ],
      "metadata": {
        "id": "pqf9WWnNtKEP"
      },
      "execution_count": null,
      "outputs": []
    },
    {
      "cell_type": "code",
      "source": [
        "# 인공신경망 모형 구성(퍼셉트론)\n",
        "model = Sequential()\n",
        "model.add(Dense(3, input_shape = (2, ), activation = 'linear')) #\n",
        "model.add(Dense(1, activation = 'linear')) #\n",
        "#모형 컴파일\n",
        "model.compile(optimizer = 'SGD', loss = mse, metrics = ['acc']) #평가지표 설정\n",
        "#모형 학습 및 가중치 확인\n",
        "model.fit(x,y,epochs = 10)\n",
        "model.get_weights()"
      ],
      "metadata": {
        "id": "hiVRaq7qtHzE",
        "colab": {
          "base_uri": "https://localhost:8080/"
        },
        "outputId": "6bc01f79-bec1-4a78-855c-f24ed1b2a1f3"
      },
      "execution_count": null,
      "outputs": [
        {
          "output_type": "stream",
          "name": "stdout",
          "text": [
            "Epoch 1/10\n",
            "1/1 [==============================] - 1s 975ms/step - loss: 4.6041 - acc: 0.2500\n",
            "Epoch 2/10\n",
            "1/1 [==============================] - 0s 13ms/step - loss: 3.9017 - acc: 0.2500\n",
            "Epoch 3/10\n",
            "1/1 [==============================] - 0s 20ms/step - loss: 3.3546 - acc: 0.2500\n",
            "Epoch 4/10\n",
            "1/1 [==============================] - 0s 32ms/step - loss: 2.9189 - acc: 0.2500\n",
            "Epoch 5/10\n",
            "1/1 [==============================] - 0s 27ms/step - loss: 2.5656 - acc: 0.2500\n",
            "Epoch 6/10\n",
            "1/1 [==============================] - 0s 23ms/step - loss: 2.2747 - acc: 0.2500\n",
            "Epoch 7/10\n",
            "1/1 [==============================] - 0s 19ms/step - loss: 2.0320 - acc: 0.2500\n",
            "Epoch 8/10\n",
            "1/1 [==============================] - 0s 16ms/step - loss: 1.8271 - acc: 0.2500\n",
            "Epoch 9/10\n",
            "1/1 [==============================] - 0s 12ms/step - loss: 1.6525 - acc: 0.2500\n",
            "Epoch 10/10\n",
            "1/1 [==============================] - 0s 14ms/step - loss: 1.5025 - acc: 0.2500\n"
          ]
        },
        {
          "output_type": "execute_result",
          "data": {
            "text/plain": [
              "[array([[ 0.797361  ,  1.0541171 ,  0.21874581],\n",
              "        [ 0.7909753 , -0.34230295, -0.56851417]], dtype=float32),\n",
              " array([-0.23658395, -0.02176277, -0.04569821], dtype=float32),\n",
              " array([[-0.74911773],\n",
              "        [-0.00320284],\n",
              "        [-0.21241358]], dtype=float32),\n",
              " array([0.25852764], dtype=float32)]"
            ]
          },
          "metadata": {},
          "execution_count": 3
        }
      ]
    },
    {
      "cell_type": "code",
      "source": [
        "from sklearn.neural_network import MLPClassifier\n",
        "model = MLPClassifier( hidden_layer_sizes=(3,1) )\n",
        "model.fit( x,y)\n"
      ],
      "metadata": {
        "id": "XcSvd4W0yMPv",
        "colab": {
          "base_uri": "https://localhost:8080/",
          "height": 167
        },
        "outputId": "ba972120-4946-4675-eba3-a2a8ea5699cb"
      },
      "execution_count": null,
      "outputs": [
        {
          "output_type": "stream",
          "name": "stderr",
          "text": [
            "/usr/local/lib/python3.10/dist-packages/sklearn/neural_network/_multilayer_perceptron.py:1098: DataConversionWarning: A column-vector y was passed when a 1d array was expected. Please change the shape of y to (n_samples, ), for example using ravel().\n",
            "  y = column_or_1d(y, warn=True)\n",
            "/usr/local/lib/python3.10/dist-packages/sklearn/neural_network/_multilayer_perceptron.py:686: ConvergenceWarning: Stochastic Optimizer: Maximum iterations (200) reached and the optimization hasn't converged yet.\n",
            "  warnings.warn(\n"
          ]
        },
        {
          "output_type": "execute_result",
          "data": {
            "text/plain": [
              "MLPClassifier(hidden_layer_sizes=(3, 1))"
            ],
            "text/html": [
              "<style>#sk-container-id-1 {color: black;background-color: white;}#sk-container-id-1 pre{padding: 0;}#sk-container-id-1 div.sk-toggleable {background-color: white;}#sk-container-id-1 label.sk-toggleable__label {cursor: pointer;display: block;width: 100%;margin-bottom: 0;padding: 0.3em;box-sizing: border-box;text-align: center;}#sk-container-id-1 label.sk-toggleable__label-arrow:before {content: \"▸\";float: left;margin-right: 0.25em;color: #696969;}#sk-container-id-1 label.sk-toggleable__label-arrow:hover:before {color: black;}#sk-container-id-1 div.sk-estimator:hover label.sk-toggleable__label-arrow:before {color: black;}#sk-container-id-1 div.sk-toggleable__content {max-height: 0;max-width: 0;overflow: hidden;text-align: left;background-color: #f0f8ff;}#sk-container-id-1 div.sk-toggleable__content pre {margin: 0.2em;color: black;border-radius: 0.25em;background-color: #f0f8ff;}#sk-container-id-1 input.sk-toggleable__control:checked~div.sk-toggleable__content {max-height: 200px;max-width: 100%;overflow: auto;}#sk-container-id-1 input.sk-toggleable__control:checked~label.sk-toggleable__label-arrow:before {content: \"▾\";}#sk-container-id-1 div.sk-estimator input.sk-toggleable__control:checked~label.sk-toggleable__label {background-color: #d4ebff;}#sk-container-id-1 div.sk-label input.sk-toggleable__control:checked~label.sk-toggleable__label {background-color: #d4ebff;}#sk-container-id-1 input.sk-hidden--visually {border: 0;clip: rect(1px 1px 1px 1px);clip: rect(1px, 1px, 1px, 1px);height: 1px;margin: -1px;overflow: hidden;padding: 0;position: absolute;width: 1px;}#sk-container-id-1 div.sk-estimator {font-family: monospace;background-color: #f0f8ff;border: 1px dotted black;border-radius: 0.25em;box-sizing: border-box;margin-bottom: 0.5em;}#sk-container-id-1 div.sk-estimator:hover {background-color: #d4ebff;}#sk-container-id-1 div.sk-parallel-item::after {content: \"\";width: 100%;border-bottom: 1px solid gray;flex-grow: 1;}#sk-container-id-1 div.sk-label:hover label.sk-toggleable__label {background-color: #d4ebff;}#sk-container-id-1 div.sk-serial::before {content: \"\";position: absolute;border-left: 1px solid gray;box-sizing: border-box;top: 0;bottom: 0;left: 50%;z-index: 0;}#sk-container-id-1 div.sk-serial {display: flex;flex-direction: column;align-items: center;background-color: white;padding-right: 0.2em;padding-left: 0.2em;position: relative;}#sk-container-id-1 div.sk-item {position: relative;z-index: 1;}#sk-container-id-1 div.sk-parallel {display: flex;align-items: stretch;justify-content: center;background-color: white;position: relative;}#sk-container-id-1 div.sk-item::before, #sk-container-id-1 div.sk-parallel-item::before {content: \"\";position: absolute;border-left: 1px solid gray;box-sizing: border-box;top: 0;bottom: 0;left: 50%;z-index: -1;}#sk-container-id-1 div.sk-parallel-item {display: flex;flex-direction: column;z-index: 1;position: relative;background-color: white;}#sk-container-id-1 div.sk-parallel-item:first-child::after {align-self: flex-end;width: 50%;}#sk-container-id-1 div.sk-parallel-item:last-child::after {align-self: flex-start;width: 50%;}#sk-container-id-1 div.sk-parallel-item:only-child::after {width: 0;}#sk-container-id-1 div.sk-dashed-wrapped {border: 1px dashed gray;margin: 0 0.4em 0.5em 0.4em;box-sizing: border-box;padding-bottom: 0.4em;background-color: white;}#sk-container-id-1 div.sk-label label {font-family: monospace;font-weight: bold;display: inline-block;line-height: 1.2em;}#sk-container-id-1 div.sk-label-container {text-align: center;}#sk-container-id-1 div.sk-container {/* jupyter's `normalize.less` sets `[hidden] { display: none; }` but bootstrap.min.css set `[hidden] { display: none !important; }` so we also need the `!important` here to be able to override the default hidden behavior on the sphinx rendered scikit-learn.org. See: https://github.com/scikit-learn/scikit-learn/issues/21755 */display: inline-block !important;position: relative;}#sk-container-id-1 div.sk-text-repr-fallback {display: none;}</style><div id=\"sk-container-id-1\" class=\"sk-top-container\"><div class=\"sk-text-repr-fallback\"><pre>MLPClassifier(hidden_layer_sizes=(3, 1))</pre><b>In a Jupyter environment, please rerun this cell to show the HTML representation or trust the notebook. <br />On GitHub, the HTML representation is unable to render, please try loading this page with nbviewer.org.</b></div><div class=\"sk-container\" hidden><div class=\"sk-item\"><div class=\"sk-estimator sk-toggleable\"><input class=\"sk-toggleable__control sk-hidden--visually\" id=\"sk-estimator-id-1\" type=\"checkbox\" checked><label for=\"sk-estimator-id-1\" class=\"sk-toggleable__label sk-toggleable__label-arrow\">MLPClassifier</label><div class=\"sk-toggleable__content\"><pre>MLPClassifier(hidden_layer_sizes=(3, 1))</pre></div></div></div></div></div>"
            ]
          },
          "metadata": {},
          "execution_count": 4
        }
      ]
    },
    {
      "cell_type": "markdown",
      "source": [
        "- 위에 있는 예제를 변형하셔서\n",
        "- 은닉층 2개인 ANN을 만드세요.\n",
        "- 은닉층1: 노드3,\n",
        "- 은닉층2: 노드1"
      ],
      "metadata": {
        "id": "e9N_CIGawKG2"
      }
    },
    {
      "cell_type": "markdown",
      "source": [
        "- Activation Function: Sigmoid VS ReLU VS TanH VS Step"
      ],
      "metadata": {
        "id": "4-hj8CLnCHg-"
      }
    },
    {
      "cell_type": "code",
      "source": [
        "\n",
        "def sigmoid(z):\n",
        "    return 1 / (1 + np.exp(-z))\n",
        "\n",
        "def relu(z):\n",
        "    return np.maximum(0, z)\n",
        "\n",
        "#함수 미분\n",
        "def derivative(f, z, eps=0.000001):\n",
        "    return (f(z + eps) - f(z - eps))/(2 * eps)\n",
        "\n",
        "z = np.linspace(-5, 5, 200)\n",
        "\n",
        "plt.figure(figsize=(11,4))\n",
        "plt.subplot(121)\n",
        "plt.plot(z, sigmoid(z), \"r--\", linewidth=2, label=\"Sigmoid\")\n",
        "plt.plot(z, relu(z), \"b-.\", linewidth=2, label=\"ReLU\")\n",
        "plt.grid(True)\n",
        "plt.legend(loc=\"center right\", fontsize=10)\n",
        "plt.title(\"Activation func\")\n",
        "\n",
        "plt.subplot(122)\n",
        "#plt.plot(z, derivative(np.sign, z), \"r-\", linewidth=1, label=\"Step\")\n",
        "#plt.plot(0, 0, \"ro\", markersize=5)\n",
        "#plt.plot(0, 0, \"rx\", markersize=10)\n",
        "plt.plot(z, derivative(sigmoid, z), \"r--\", linewidth=2, label=\"Sigmoid\")\n",
        "plt.plot(z, derivative(relu, z), \"b-.\", linewidth=2, label=\"ReLU\")\n",
        "plt.grid(True)\n",
        "plt.title(\"Derivatives\")\n",
        "plt.show()\n"
      ],
      "metadata": {
        "colab": {
          "base_uri": "https://localhost:8080/",
          "height": 391
        },
        "id": "UcKsKypKCHnY",
        "outputId": "f4198937-134e-4aec-c3e8-f74749978f93"
      },
      "execution_count": null,
      "outputs": [
        {
          "output_type": "display_data",
          "data": {
            "text/plain": [
              "<Figure size 1100x400 with 2 Axes>"
            ],
            "image/png": "[encoded data removed]"
          },
          "metadata": {}
        }
      ]
    },
    {
      "cell_type": "markdown",
      "source": [
        "# 학습율"
      ],
      "metadata": {
        "id": "qOzSKDsNCHsq"
      }
    },
    {
      "cell_type": "code",
      "source": [
        "tf.random.set_seed(1234)\n",
        "\n",
        "# XOR gate를 나타낸 X, Y\n",
        "x = np.array([[0,0],[1,0],[0,1],[1,1]])\n",
        "y = np.array([[0],[1],[1],[0]])\n",
        "\n",
        "#모형 구성\n",
        "model = Sequential()\n",
        "model.add(Dense(32, input_shape = (2, ), activation = 'relu')) #node의 수 32\n",
        "model.add(Dense(1, activation='sigmoid'))\n",
        "model.summary()\n",
        "\n",
        "#모형 컴파일\n",
        "model.compile(optimizer = 'adam', loss = mse, metrics = ['acc'])\n",
        "\n",
        "#학습\n",
        "model.fit(x,y,epochs = 50)\n",
        "\n",
        "#학습율과 경사하강\n",
        "lr_list = [0.001, 0.01, 0.1, 0.55]\n",
        "\n",
        "def get_derivative(lr_list):\n",
        "  weight_prev = 2\n",
        "  derivative = [weight_prev]\n",
        "  y = [weight_prev ** 2] # 손실 함수 y = x^2\n",
        "  for i in range(1,10):\n",
        "    dev_value = weight_prev **2 #미분값\n",
        "    #weight update\n",
        "    weight_new = weight_prev - lr * dev_value\n",
        "    weight_prev = weight_new\n",
        "    derivative.append(weight_prev) #weight\n",
        "    y.append(weight_prev ** 2) #loss\n",
        "  return derivative, y\n",
        "\n",
        "x = np.linspace(-3,3,90)\n",
        "x_square = [i**2 for i in x]\n",
        "\n",
        "#결과 비교\n",
        "fig = plt.figure(figsize=(8, 4))\n",
        "\n",
        "for i,lr in enumerate(lr_list):\n",
        "  derivative, y = get_derivative(lr)\n",
        "  ax = fig.add_subplot(2, 2, i+1)\n",
        "  ax.scatter(derivative, y, color = 'blue')\n",
        "  ax.plot(x, x_square)\n",
        "  ax.title.set_text('lr = '+str(lr))\n",
        "\n",
        "plt.show()\n"
      ],
      "metadata": {
        "colab": {
          "base_uri": "https://localhost:8080/",
          "height": 1000
        },
        "id": "8u1nw5Y1CHz6",
        "outputId": "0361f480-94ac-4de4-fde1-65b03f04b23b"
      },
      "execution_count": null,
      "outputs": [
        {
          "output_type": "stream",
          "name": "stdout",
          "text": [
            "Model: \"sequential_1\"\n",
            "_________________________________________________________________\n",
            " Layer (type)                Output Shape              Param #   \n",
            "=================================================================\n",
            " dense_2 (Dense)             (None, 32)                96        \n",
            "                                                                 \n",
            " dense_3 (Dense)             (None, 1)                 33        \n",
            "                                                                 \n",
            "=================================================================\n",
            "Total params: 129 (516.00 Byte)\n",
            "Trainable params: 129 (516.00 Byte)\n",
            "Non-trainable params: 0 (0.00 Byte)\n",
            "_________________________________________________________________\n",
            "Epoch 1/50\n",
            "1/1 [==============================] - 1s 587ms/step - loss: 0.2596 - acc: 0.5000\n",
            "Epoch 2/50\n",
            "1/1 [==============================] - 0s 16ms/step - loss: 0.2585 - acc: 0.2500\n",
            "Epoch 3/50\n",
            "1/1 [==============================] - 0s 13ms/step - loss: 0.2575 - acc: 0.2500\n",
            "Epoch 4/50\n",
            "1/1 [==============================] - 0s 13ms/step - loss: 0.2566 - acc: 0.2500\n",
            "Epoch 5/50\n",
            "1/1 [==============================] - 0s 14ms/step - loss: 0.2556 - acc: 0.2500\n",
            "Epoch 6/50\n",
            "1/1 [==============================] - 0s 15ms/step - loss: 0.2547 - acc: 0.2500\n",
            "Epoch 7/50\n",
            "1/1 [==============================] - 0s 16ms/step - loss: 0.2539 - acc: 0.2500\n",
            "Epoch 8/50\n",
            "1/1 [==============================] - 0s 11ms/step - loss: 0.2530 - acc: 0.2500\n",
            "Epoch 9/50\n",
            "1/1 [==============================] - 0s 13ms/step - loss: 0.2521 - acc: 0.2500\n",
            "Epoch 10/50\n",
            "1/1 [==============================] - 0s 12ms/step - loss: 0.2513 - acc: 0.2500\n",
            "Epoch 11/50\n",
            "1/1 [==============================] - 0s 13ms/step - loss: 0.2505 - acc: 0.2500\n",
            "Epoch 12/50\n",
            "1/1 [==============================] - 0s 12ms/step - loss: 0.2497 - acc: 0.2500\n",
            "Epoch 13/50\n",
            "1/1 [==============================] - 0s 12ms/step - loss: 0.2490 - acc: 0.2500\n",
            "Epoch 14/50\n",
            "1/1 [==============================] - 0s 15ms/step - loss: 0.2482 - acc: 0.2500\n",
            "Epoch 15/50\n",
            "1/1 [==============================] - 0s 13ms/step - loss: 0.2474 - acc: 0.2500\n",
            "Epoch 16/50\n",
            "1/1 [==============================] - 0s 12ms/step - loss: 0.2467 - acc: 0.2500\n",
            "Epoch 17/50\n",
            "1/1 [==============================] - 0s 12ms/step - loss: 0.2460 - acc: 0.2500\n",
            "Epoch 18/50\n",
            "1/1 [==============================] - 0s 14ms/step - loss: 0.2453 - acc: 0.2500\n",
            "Epoch 19/50\n",
            "1/1 [==============================] - 0s 14ms/step - loss: 0.2446 - acc: 0.2500\n",
            "Epoch 20/50\n",
            "1/1 [==============================] - 0s 9ms/step - loss: 0.2440 - acc: 0.2500\n",
            "Epoch 21/50\n",
            "1/1 [==============================] - 0s 11ms/step - loss: 0.2433 - acc: 0.2500\n",
            "Epoch 22/50\n",
            "1/1 [==============================] - 0s 12ms/step - loss: 0.2427 - acc: 0.2500\n",
            "Epoch 23/50\n",
            "1/1 [==============================] - 0s 10ms/step - loss: 0.2421 - acc: 0.2500\n",
            "Epoch 24/50\n",
            "1/1 [==============================] - 0s 11ms/step - loss: 0.2415 - acc: 0.2500\n",
            "Epoch 25/50\n",
            "1/1 [==============================] - 0s 10ms/step - loss: 0.2409 - acc: 0.2500\n",
            "Epoch 26/50\n",
            "1/1 [==============================] - 0s 10ms/step - loss: 0.2404 - acc: 0.2500\n",
            "Epoch 27/50\n",
            "1/1 [==============================] - 0s 11ms/step - loss: 0.2398 - acc: 0.2500\n",
            "Epoch 28/50\n",
            "1/1 [==============================] - 0s 11ms/step - loss: 0.2393 - acc: 0.2500\n",
            "Epoch 29/50\n",
            "1/1 [==============================] - 0s 11ms/step - loss: 0.2387 - acc: 0.2500\n",
            "Epoch 30/50\n",
            "1/1 [==============================] - 0s 10ms/step - loss: 0.2382 - acc: 0.2500\n",
            "Epoch 31/50\n",
            "1/1 [==============================] - 0s 14ms/step - loss: 0.2377 - acc: 0.2500\n",
            "Epoch 32/50\n",
            "1/1 [==============================] - 0s 11ms/step - loss: 0.2372 - acc: 0.2500\n",
            "Epoch 33/50\n",
            "1/1 [==============================] - 0s 11ms/step - loss: 0.2367 - acc: 0.2500\n",
            "Epoch 34/50\n",
            "1/1 [==============================] - 0s 12ms/step - loss: 0.2363 - acc: 0.2500\n",
            "Epoch 35/50\n",
            "1/1 [==============================] - 0s 11ms/step - loss: 0.2358 - acc: 0.2500\n",
            "Epoch 36/50\n",
            "1/1 [==============================] - 0s 11ms/step - loss: 0.2354 - acc: 0.5000\n",
            "Epoch 37/50\n",
            "1/1 [==============================] - 0s 11ms/step - loss: 0.2349 - acc: 0.5000\n",
            "Epoch 38/50\n",
            "1/1 [==============================] - 0s 11ms/step - loss: 0.2345 - acc: 0.5000\n",
            "Epoch 39/50\n",
            "1/1 [==============================] - 0s 11ms/step - loss: 0.2340 - acc: 0.5000\n",
            "Epoch 40/50\n",
            "1/1 [==============================] - 0s 11ms/step - loss: 0.2336 - acc: 0.7500\n",
            "Epoch 41/50\n",
            "1/1 [==============================] - 0s 11ms/step - loss: 0.2332 - acc: 0.7500\n",
            "Epoch 42/50\n",
            "1/1 [==============================] - 0s 11ms/step - loss: 0.2328 - acc: 0.7500\n",
            "Epoch 43/50\n",
            "1/1 [==============================] - 0s 11ms/step - loss: 0.2323 - acc: 0.7500\n",
            "Epoch 44/50\n",
            "1/1 [==============================] - 0s 11ms/step - loss: 0.2319 - acc: 0.7500\n",
            "Epoch 45/50\n",
            "1/1 [==============================] - 0s 11ms/step - loss: 0.2315 - acc: 0.7500\n",
            "Epoch 46/50\n",
            "1/1 [==============================] - 0s 13ms/step - loss: 0.2311 - acc: 0.7500\n",
            "Epoch 47/50\n",
            "1/1 [==============================] - 0s 10ms/step - loss: 0.2307 - acc: 0.7500\n",
            "Epoch 48/50\n",
            "1/1 [==============================] - 0s 15ms/step - loss: 0.2303 - acc: 0.7500\n",
            "Epoch 49/50\n",
            "1/1 [==============================] - 0s 14ms/step - loss: 0.2299 - acc: 0.7500\n",
            "Epoch 50/50\n",
            "1/1 [==============================] - 0s 11ms/step - loss: 0.2296 - acc: 0.7500\n"
          ]
        },
        {
          "output_type": "display_data",
          "data": {
            "text/plain": [
              "<Figure size 800x400 with 4 Axes>"
            ],
            "image/png": "[encoded data removed]"
          },
          "metadata": {}
        }
      ]
    },
    {
      "cell_type": "markdown",
      "source": [
        "#연습 1: creditset.csv에 DNN 적용, MLPClassifier와 비교"
      ],
      "metadata": {
        "id": "r8jmB17tC-d2"
      }
    },
    {
      "cell_type": "code",
      "execution_count": null,
      "metadata": {
        "id": "5jiwktasC2fs"
      },
      "outputs": [],
      "source": [
        "import pandas as pd\n",
        "import numpy as np\n",
        "from sklearn.model_selection import train_test_split\n",
        "from sklearn import preprocessing\n",
        "\n",
        "import tensorflow as tf\n",
        "from tensorflow.keras.models import Sequential\n",
        "from tensorflow.keras.layers import Dense\n",
        "from tensorflow.keras.optimizers import SGD\n",
        "from tensorflow.keras.losses import mse\n",
        "\n",
        "csv_data = pd.read_csv(\"creditset.csv\")\n",
        "X = csv_data.iloc[:, 1:4 ]\n",
        "y  = csv_data.iloc[:, 5 ]\n"
      ]
    },
    {
      "cell_type": "code",
      "source": [
        "#Partitioning\n",
        "X_train, X_test, y_train, y_test = train_test_split( X, y, test_size=0.3, random_state=42 )\n",
        "scaler = preprocessing.MinMaxScaler()\n",
        "X_train = scaler.fit_transform( X_train)\n",
        "X_test  = scaler.fit_transform( X_test  )"
      ],
      "metadata": {
        "id": "X8djrBQkUNEM"
      },
      "execution_count": null,
      "outputs": []
    },
    {
      "cell_type": "code",
      "source": [
        "from sklearn.neural_network import MLPClassifier\n",
        "mlp = MLPClassifier(hidden_layer_sizes=(6,3))\n",
        "mlp.fit(X_train,y_train)\n",
        "predictions = mlp.predict(X_test)\n",
        "\n",
        "np.mean( predictions == y_test )"
      ],
      "metadata": {
        "colab": {
          "base_uri": "https://localhost:8080/"
        },
        "id": "tg1nrQGOU0wy",
        "outputId": "55dc9b8c-69ad-464e-ef0b-e69b46281b29"
      },
      "execution_count": null,
      "outputs": [
        {
          "output_type": "stream",
          "name": "stderr",
          "text": [
            "/usr/local/lib/python3.10/dist-packages/sklearn/neural_network/_multilayer_perceptron.py:686: ConvergenceWarning: Stochastic Optimizer: Maximum iterations (200) reached and the optimization hasn't converged yet.\n",
            "  warnings.warn(\n"
          ]
        },
        {
          "output_type": "execute_result",
          "data": {
            "text/plain": [
              "0.9316666666666666"
            ]
          },
          "metadata": {},
          "execution_count": 9
        }
      ]
    },
    {
      "cell_type": "code",
      "source": [
        "from sklearn.metrics import classification_report,confusion_matrix\n",
        "print( confusion_matrix(y_test,predictions) )\n",
        "print('\\n', classification_report(y_test,predictions) )"
      ],
      "metadata": {
        "colab": {
          "base_uri": "https://localhost:8080/"
        },
        "id": "fxrOjf7bT_Cs",
        "outputId": "5395a4ad-28d8-4884-91f1-7f89ba9302d9"
      },
      "execution_count": null,
      "outputs": [
        {
          "output_type": "stream",
          "name": "stdout",
          "text": [
            "[[498  10]\n",
            " [ 31  61]]\n",
            "\n",
            "               precision    recall  f1-score   support\n",
            "\n",
            "           0       0.94      0.98      0.96       508\n",
            "           1       0.86      0.66      0.75        92\n",
            "\n",
            "    accuracy                           0.93       600\n",
            "   macro avg       0.90      0.82      0.85       600\n",
            "weighted avg       0.93      0.93      0.93       600\n",
            "\n"
          ]
        }
      ]
    },
    {
      "cell_type": "code",
      "source": [
        "#DNN\n",
        "from tensorflow.keras.utils import to_categorical\n",
        "y_train = to_categorical(y_train)\n",
        "y_test = to_categorical(y_test)\n",
        "np.argmax(y_test, axis = -1)"
      ],
      "metadata": {
        "id": "y8YKNkdTV2L4",
        "colab": {
          "base_uri": "https://localhost:8080/"
        },
        "outputId": "a9caba6b-6ada-4b99-ac5a-a04e30674197"
      },
      "execution_count": null,
      "outputs": [
        {
          "output_type": "execute_result",
          "data": {
            "text/plain": [
              "array([1, 1, 0, 0, 0, 0, 0, 1, 0, 0, 1, 1, 1, 0, 0, 1, 0, 0, 0, 0, 0, 0,\n",
              "       0, 0, 0, 1, 0, 0, 1, 0, 0, 0, 0, 0, 0, 0, 0, 1, 0, 0, 0, 0, 0, 1,\n",
              "       1, 0, 0, 1, 0, 0, 0, 0, 0, 0, 0, 0, 1, 0, 0, 1, 0, 0, 1, 0, 0, 0,\n",
              "       0, 1, 0, 0, 1, 0, 0, 0, 0, 0, 1, 0, 0, 0, 0, 0, 0, 0, 0, 1, 0, 0,\n",
              "       0, 0, 1, 0, 0, 0, 0, 0, 0, 0, 0, 0, 0, 0, 1, 0, 0, 0, 0, 0, 0, 1,\n",
              "       0, 0, 0, 0, 0, 0, 0, 0, 0, 0, 0, 0, 0, 0, 0, 0, 1, 0, 0, 0, 0, 0,\n",
              "       0, 0, 0, 1, 0, 0, 0, 0, 0, 1, 0, 0, 1, 0, 0, 0, 1, 0, 0, 0, 0, 0,\n",
              "       0, 0, 1, 0, 1, 1, 0, 0, 0, 0, 0, 1, 0, 1, 0, 0, 0, 1, 0, 0, 0, 1,\n",
              "       0, 0, 0, 0, 0, 0, 0, 0, 0, 1, 0, 0, 0, 1, 0, 0, 0, 0, 0, 0, 0, 0,\n",
              "       0, 0, 1, 0, 0, 0, 0, 0, 0, 0, 0, 0, 0, 0, 0, 0, 1, 0, 1, 0, 0, 0,\n",
              "       0, 0, 0, 0, 0, 0, 1, 0, 0, 0, 0, 0, 0, 0, 0, 0, 0, 0, 0, 0, 0, 0,\n",
              "       0, 1, 0, 0, 0, 0, 0, 0, 1, 1, 0, 0, 0, 0, 1, 0, 0, 0, 0, 0, 0, 0,\n",
              "       0, 0, 0, 0, 0, 0, 0, 1, 1, 0, 0, 0, 1, 0, 0, 0, 1, 0, 0, 0, 0, 0,\n",
              "       0, 0, 0, 0, 0, 0, 0, 0, 0, 0, 0, 0, 0, 1, 1, 0, 0, 1, 1, 0, 0, 0,\n",
              "       0, 0, 0, 0, 0, 0, 0, 0, 0, 0, 0, 0, 0, 1, 0, 0, 0, 0, 1, 0, 0, 0,\n",
              "       0, 1, 0, 0, 1, 0, 0, 1, 0, 0, 0, 0, 1, 0, 0, 0, 0, 0, 0, 0, 0, 1,\n",
              "       0, 1, 0, 0, 0, 0, 0, 0, 0, 0, 0, 0, 0, 0, 0, 0, 0, 0, 0, 0, 1, 0,\n",
              "       0, 0, 1, 0, 0, 1, 0, 1, 0, 0, 0, 0, 1, 0, 0, 0, 0, 0, 0, 0, 1, 1,\n",
              "       0, 1, 0, 1, 0, 0, 0, 0, 0, 0, 0, 0, 0, 0, 0, 0, 1, 0, 1, 0, 0, 0,\n",
              "       0, 0, 0, 0, 0, 0, 0, 0, 0, 0, 0, 0, 0, 0, 0, 0, 0, 0, 0, 0, 0, 0,\n",
              "       0, 0, 1, 0, 0, 0, 0, 0, 0, 0, 0, 0, 0, 0, 0, 0, 0, 0, 0, 0, 0, 0,\n",
              "       0, 0, 0, 1, 1, 0, 1, 0, 0, 0, 0, 0, 0, 0, 0, 1, 1, 0, 0, 0, 0, 0,\n",
              "       0, 0, 0, 0, 0, 0, 0, 0, 0, 0, 0, 0, 0, 0, 0, 0, 0, 0, 0, 0, 0, 0,\n",
              "       0, 0, 1, 0, 0, 0, 0, 0, 0, 0, 0, 0, 0, 0, 0, 0, 0, 0, 0, 0, 0, 0,\n",
              "       0, 0, 0, 0, 0, 0, 0, 0, 1, 0, 0, 0, 0, 0, 0, 0, 1, 1, 0, 0, 0, 0,\n",
              "       0, 1, 0, 0, 0, 1, 0, 0, 0, 0, 0, 0, 0, 0, 0, 0, 0, 0, 0, 1, 0, 1,\n",
              "       0, 0, 0, 1, 0, 0, 1, 1, 0, 1, 0, 0, 0, 1, 0, 0, 0, 0, 0, 0, 0, 0,\n",
              "       0, 0, 1, 0, 0, 0])"
            ]
          },
          "metadata": {},
          "execution_count": 11
        }
      ]
    },
    {
      "cell_type": "code",
      "source": [
        "#모형 구성\n",
        "from tensorflow.keras.models import Sequential\n",
        "from tensorflow.keras.layers import Dense\n",
        "model = Sequential()\n",
        "model.add(Dense(6, activation = 'relu', input_shape = (3, ) ) ) # 은닉층1-입력:3, 출력 6를 표시\n",
        "model.add(Dense(3, activation = 'relu' ) ) # 은닉층2-입력:6, 출력 3를 표시\n",
        "model.add(Dense(2, activation = 'softmax'))  # 은닉층3-출력:2를 표시\n",
        "\n",
        "model.compile(optimizer = 'adam', loss = 'categorical_crossentropy', metrics = ['acc'])# 모형 컴파일\n",
        "\n",
        "# 학습\n",
        "history = model.fit(X_train, y_train, epochs = 20, batch_size = 100)\n",
        "history.history.keys()\n"
      ],
      "metadata": {
        "id": "JEd0fE1dDvpG",
        "colab": {
          "base_uri": "https://localhost:8080/"
        },
        "outputId": "18d5b037-ada9-4827-f120-9295af470c89"
      },
      "execution_count": null,
      "outputs": [
        {
          "output_type": "stream",
          "name": "stdout",
          "text": [
            "Epoch 1/20\n",
            "14/14 [==============================] - 1s 3ms/step - loss: 0.6850 - acc: 0.8521\n",
            "Epoch 2/20\n",
            "14/14 [==============================] - 0s 3ms/step - loss: 0.6719 - acc: 0.8757\n",
            "Epoch 3/20\n",
            "14/14 [==============================] - 0s 3ms/step - loss: 0.6579 - acc: 0.8964\n",
            "Epoch 4/20\n",
            "14/14 [==============================] - 0s 3ms/step - loss: 0.6426 - acc: 0.9043\n",
            "Epoch 5/20\n",
            "14/14 [==============================] - 0s 3ms/step - loss: 0.6252 - acc: 0.8986\n",
            "Epoch 6/20\n",
            "14/14 [==============================] - 0s 3ms/step - loss: 0.6055 - acc: 0.8921\n",
            "Epoch 7/20\n",
            "14/14 [==============================] - 0s 3ms/step - loss: 0.5834 - acc: 0.8886\n",
            "Epoch 8/20\n",
            "14/14 [==============================] - 0s 3ms/step - loss: 0.5591 - acc: 0.8750\n",
            "Epoch 9/20\n",
            "14/14 [==============================] - 0s 3ms/step - loss: 0.5328 - acc: 0.8679\n",
            "Epoch 10/20\n",
            "14/14 [==============================] - 0s 3ms/step - loss: 0.5052 - acc: 0.8650\n",
            "Epoch 11/20\n",
            "14/14 [==============================] - 0s 3ms/step - loss: 0.4771 - acc: 0.8636\n",
            "Epoch 12/20\n",
            "14/14 [==============================] - 0s 4ms/step - loss: 0.4497 - acc: 0.8636\n",
            "Epoch 13/20\n",
            "14/14 [==============================] - 0s 3ms/step - loss: 0.4236 - acc: 0.8636\n",
            "Epoch 14/20\n",
            "14/14 [==============================] - 0s 3ms/step - loss: 0.3989 - acc: 0.8636\n",
            "Epoch 15/20\n",
            "14/14 [==============================] - 0s 4ms/step - loss: 0.3769 - acc: 0.8636\n",
            "Epoch 16/20\n",
            "14/14 [==============================] - 0s 3ms/step - loss: 0.3573 - acc: 0.8636\n",
            "Epoch 17/20\n",
            "14/14 [==============================] - 0s 3ms/step - loss: 0.3397 - acc: 0.8643\n",
            "Epoch 18/20\n",
            "14/14 [==============================] - 0s 4ms/step - loss: 0.3238 - acc: 0.8664\n",
            "Epoch 19/20\n",
            "14/14 [==============================] - 0s 4ms/step - loss: 0.3096 - acc: 0.8707\n",
            "Epoch 20/20\n",
            "14/14 [==============================] - 0s 3ms/step - loss: 0.2964 - acc: 0.8764\n"
          ]
        },
        {
          "output_type": "execute_result",
          "data": {
            "text/plain": [
              "dict_keys(['loss', 'acc'])"
            ]
          },
          "metadata": {},
          "execution_count": 12
        }
      ]
    },
    {
      "cell_type": "code",
      "source": [
        "# 모형 평가-train, test\n",
        "model.evaluate(X_test, y_test)\n",
        "results = model.predict(X_test)\n",
        "print(results.shape)\n",
        "\n",
        "#confusion matrix: skleanr.metrics의 기능\n",
        "from sklearn.metrics import classification_report, confusion_matrix\n",
        "print('\\n', classification_report(np.argmax(y_test, axis = -1), np.argmax(results, axis = -1)))"
      ],
      "metadata": {
        "id": "63j-dVrHXAPg",
        "colab": {
          "base_uri": "https://localhost:8080/"
        },
        "outputId": "213be0b7-6eb3-436f-c488-9a081952e2f5"
      },
      "execution_count": null,
      "outputs": [
        {
          "output_type": "stream",
          "name": "stdout",
          "text": [
            "19/19 [==============================] - 1s 2ms/step - loss: 0.3048 - acc: 0.8650\n",
            "19/19 [==============================] - 0s 1ms/step\n",
            "(600, 2)\n",
            "\n",
            "               precision    recall  f1-score   support\n",
            "\n",
            "           0       0.86      1.00      0.93       508\n",
            "           1       1.00      0.12      0.21        92\n",
            "\n",
            "    accuracy                           0.86       600\n",
            "   macro avg       0.93      0.56      0.57       600\n",
            "weighted avg       0.88      0.86      0.82       600\n",
            "\n"
          ]
        }
      ]
    },
    {
      "cell_type": "markdown",
      "source": [
        "- creditset.csv 에 대해서 tensorflow로 ANN모델링하세요.\n",
        "- 000000000 성능을 개선해보세요~\n",
        "- 4:25까지 해보세요"
      ],
      "metadata": {
        "id": "P0Bg-4CIXm9P"
      }
    },
    {
      "cell_type": "markdown",
      "source": [
        "#연습 2: 반도체 제조 data.csv에 DNN 적용, ML과 비교"
      ],
      "metadata": {
        "id": "7WUcx7FXC_Qa"
      }
    },
    {
      "cell_type": "markdown",
      "source": [
        "- sklearn"
      ],
      "metadata": {
        "id": "of1H_iRlDQtD"
      }
    },
    {
      "cell_type": "code",
      "source": [
        "import pandas as pd\n",
        "import numpy as np\n",
        "csv_data = pd.read_csv(\"data.csv\")\n",
        "csv_data.shape"
      ],
      "metadata": {
        "colab": {
          "base_uri": "https://localhost:8080/"
        },
        "id": "HcH60gDzbV28",
        "outputId": "0d5fdbe3-65dd-4231-92a7-b05fbe43b62a"
      },
      "execution_count": null,
      "outputs": [
        {
          "output_type": "execute_result",
          "data": {
            "text/plain": [
              "(1567, 49)"
            ]
          },
          "metadata": {},
          "execution_count": 14
        }
      ]
    },
    {
      "cell_type": "code",
      "source": [
        "from sklearn.model_selection import train_test_split\n",
        "from sklearn import preprocessing\n",
        "\n",
        "X = csv_data.iloc[:, 0:48 ]   #모든행, 1열~48열까지\n",
        "y = csv_data.iloc[:, 48 ]    #모든 행, 49열 인덱싱\n",
        "\n",
        "#Partitioning\n",
        "X_train, X_test, y_train, y_test = train_test_split( X, y, test_size=0.3, random_state=42 )\n",
        "scaler = preprocessing.MinMaxScaler()\n",
        "X_train = scaler.fit_transform( X_train)\n",
        "X_test  = scaler.fit_transform( X_test  )"
      ],
      "metadata": {
        "id": "hkMloSOxbwBO"
      },
      "execution_count": null,
      "outputs": []
    },
    {
      "cell_type": "code",
      "source": [
        "from sklearn.naive_bayes import MultinomialNB\n",
        "from sklearn.tree import DecisionTreeClassifier\n",
        "from sklearn.ensemble import RandomForestClassifier\n",
        "from sklearn.neighbors import KNeighborsClassifier\n",
        "from sklearn.svm import SVC\n",
        "from sklearn.neural_network import MLPClassifier\n",
        "\n",
        "#NB\n",
        "clf = MultinomialNB().fit(X_train, y_train)\n",
        "predicted = clf.predict(X_test)\n",
        "print('NB', np.mean(predicted == y_test))\n",
        "\n",
        "#DT\n",
        "dt1 = DecisionTreeClassifier().fit(X_train, y_train)\n",
        "pred = dt1.predict( X_test)\n",
        "print('DT', np.mean( pred == y_test ))\n",
        "\n",
        "#RF\n",
        "rf = RandomForestClassifier(n_estimators=300, random_state=42).fit(X_train, y_train)\n",
        "predicted = rf.predict(X_test)\n",
        "print('RF', np.mean( predicted == y_test ))\n",
        "\n",
        "#KNN\n",
        "knn = KNeighborsClassifier().fit(X_train, y_train)  #k=5\n",
        "predicted = knn.predict(X_test)\n",
        "print('KNN', np.mean( predicted == y_test ))\n",
        "\n",
        "#SVM\n",
        "svm = SVC().fit(X_train, y_train)\n",
        "predicted = svm.predict(X_test)\n",
        "print('SVM', np.mean( predicted == y_test ))\n",
        "\n",
        "#ANN\n",
        "mlp = MLPClassifier(hidden_layer_sizes=(24,12,6)).fit(X_train,y_train)\n",
        "predictions = mlp.predict(X_test)\n",
        "print('ANN',np.mean( predictions == y_test ))"
      ],
      "metadata": {
        "colab": {
          "base_uri": "https://localhost:8080/"
        },
        "id": "Ye5TDh89C_Wx",
        "outputId": "e6dab217-4423-4aee-b53c-3e3e1380d6e1"
      },
      "execution_count": null,
      "outputs": [
        {
          "output_type": "stream",
          "name": "stdout",
          "text": [
            "NB 0.9320594479830149\n",
            "DT 0.6454352441613588\n",
            "RF 0.9299363057324841\n",
            "KNN 0.9320594479830149\n",
            "SVM 0.9341825902335457\n",
            "ANN 0.9341825902335457\n"
          ]
        },
        {
          "output_type": "stream",
          "name": "stderr",
          "text": [
            "/usr/local/lib/python3.10/dist-packages/sklearn/neural_network/_multilayer_perceptron.py:686: ConvergenceWarning: Stochastic Optimizer: Maximum iterations (200) reached and the optimization hasn't converged yet.\n",
            "  warnings.warn(\n"
          ]
        }
      ]
    },
    {
      "cell_type": "markdown",
      "source": [
        "- tensorflow"
      ],
      "metadata": {
        "id": "LwqTzpSDC_fy"
      }
    },
    {
      "cell_type": "code",
      "source": [
        "#DNN\n",
        "from tensorflow.keras.utils import to_categorical\n",
        "y_train = to_categorical(y_train)\n",
        "y_test = to_categorical(y_test)\n",
        "\n",
        "#모형 구성\n",
        "from tensorflow.keras.models import Sequential\n",
        "from tensorflow.keras.layers import Dense\n",
        "model = Sequential()\n",
        "model.add(Dense(24, activation = 'relu', input_shape = (48, ) ) )\n",
        "model.add(Dense(12, activation = 'relu' ) )\n",
        "model.add(Dense(6, activation = 'relu' ) )\n",
        "model.add(Dense(2, activation = 'softmax'))\n",
        "\n",
        "model.compile(optimizer = 'adam', loss = 'categorical_crossentropy', metrics = ['acc'])# 모형 컴파일\n",
        "\n",
        "# 학습\n",
        "history = model.fit(X_train, y_train, epochs = 20, batch_size = 100)\n",
        "history.history.keys()\n",
        "\n",
        "# 모형 평가-train, test\n",
        "model.evaluate(X_test, y_test)\n",
        "\n",
        "results = model.predict(X_test)\n",
        "print(results.shape)\n",
        "\n",
        "#confusion matrix: skleanr.metrics의 기능\n",
        "from sklearn.metrics import classification_report, confusion_matrix\n",
        "print('\\n', classification_report(np.argmax(y_test, axis = -1), np.argmax(results, axis = -1)))"
      ],
      "metadata": {
        "id": "dv3b75s5C_lm",
        "colab": {
          "base_uri": "https://localhost:8080/"
        },
        "outputId": "db94a722-18a7-4963-905d-9fad347cc3f6"
      },
      "execution_count": null,
      "outputs": [
        {
          "output_type": "stream",
          "name": "stdout",
          "text": [
            "Epoch 1/20\n",
            "11/11 [==============================] - 1s 3ms/step - loss: 0.6180 - acc: 0.9325\n",
            "Epoch 2/20\n",
            "11/11 [==============================] - 0s 3ms/step - loss: 0.5210 - acc: 0.9334\n",
            "Epoch 3/20\n",
            "11/11 [==============================] - 0s 2ms/step - loss: 0.4290 - acc: 0.9334\n",
            "Epoch 4/20\n",
            "11/11 [==============================] - 0s 2ms/step - loss: 0.3412 - acc: 0.9334\n",
            "Epoch 5/20\n",
            "11/11 [==============================] - 0s 3ms/step - loss: 0.2760 - acc: 0.9334\n",
            "Epoch 6/20\n",
            "11/11 [==============================] - 0s 2ms/step - loss: 0.2514 - acc: 0.9334\n",
            "Epoch 7/20\n",
            "11/11 [==============================] - 0s 3ms/step - loss: 0.2479 - acc: 0.9334\n",
            "Epoch 8/20\n",
            "11/11 [==============================] - 0s 2ms/step - loss: 0.2469 - acc: 0.9334\n",
            "Epoch 9/20\n",
            "11/11 [==============================] - 0s 2ms/step - loss: 0.2462 - acc: 0.9334\n",
            "Epoch 10/20\n",
            "11/11 [==============================] - 0s 2ms/step - loss: 0.2459 - acc: 0.9334\n",
            "Epoch 11/20\n",
            "11/11 [==============================] - 0s 2ms/step - loss: 0.2458 - acc: 0.9334\n",
            "Epoch 12/20\n",
            "11/11 [==============================] - 0s 2ms/step - loss: 0.2460 - acc: 0.9334\n",
            "Epoch 13/20\n",
            "11/11 [==============================] - 0s 2ms/step - loss: 0.2456 - acc: 0.9334\n",
            "Epoch 14/20\n",
            "11/11 [==============================] - 0s 3ms/step - loss: 0.2459 - acc: 0.9334\n",
            "Epoch 15/20\n",
            "11/11 [==============================] - 0s 3ms/step - loss: 0.2454 - acc: 0.9334\n",
            "Epoch 16/20\n",
            "11/11 [==============================] - 0s 2ms/step - loss: 0.2452 - acc: 0.9334\n",
            "Epoch 17/20\n",
            "11/11 [==============================] - 0s 2ms/step - loss: 0.2452 - acc: 0.9334\n",
            "Epoch 18/20\n",
            "11/11 [==============================] - 0s 2ms/step - loss: 0.2450 - acc: 0.9334\n",
            "Epoch 19/20\n",
            "11/11 [==============================] - 0s 2ms/step - loss: 0.2449 - acc: 0.9334\n",
            "Epoch 20/20\n",
            "11/11 [==============================] - 0s 3ms/step - loss: 0.2447 - acc: 0.9334\n",
            "15/15 [==============================] - 0s 2ms/step - loss: 0.2429 - acc: 0.9342\n",
            "15/15 [==============================] - 0s 2ms/step\n",
            "(471, 2)\n",
            "\n",
            "               precision    recall  f1-score   support\n",
            "\n",
            "           0       0.93      1.00      0.97       440\n",
            "           1       0.00      0.00      0.00        31\n",
            "\n",
            "    accuracy                           0.93       471\n",
            "   macro avg       0.47      0.50      0.48       471\n",
            "weighted avg       0.87      0.93      0.90       471\n",
            "\n"
          ]
        },
        {
          "output_type": "stream",
          "name": "stderr",
          "text": [
            "/usr/local/lib/python3.10/dist-packages/sklearn/metrics/_classification.py:1344: UndefinedMetricWarning: Precision and F-score are ill-defined and being set to 0.0 in labels with no predicted samples. Use `zero_division` parameter to control this behavior.\n",
            "  _warn_prf(average, modifier, msg_start, len(result))\n",
            "/usr/local/lib/python3.10/dist-packages/sklearn/metrics/_classification.py:1344: UndefinedMetricWarning: Precision and F-score are ill-defined and being set to 0.0 in labels with no predicted samples. Use `zero_division` parameter to control this behavior.\n",
            "  _warn_prf(average, modifier, msg_start, len(result))\n",
            "/usr/local/lib/python3.10/dist-packages/sklearn/metrics/_classification.py:1344: UndefinedMetricWarning: Precision and F-score are ill-defined and being set to 0.0 in labels with no predicted samples. Use `zero_division` parameter to control this behavior.\n",
            "  _warn_prf(average, modifier, msg_start, len(result))\n"
          ]
        }
      ]
    },
    {
      "cell_type": "markdown",
      "source": [
        "# 연습3: DNN 활용"
      ],
      "metadata": {
        "id": "wIfGaPlxgxHt"
      }
    },
    {
      "cell_type": "markdown",
      "source": [
        "- sp500_tm.csv 를 읽으셔서\n",
        "- train, test 파티셔닝 / minmax scaling 하셔서\n",
        "- y는 OHE 적용하세요\n",
        "- 8-4-2 ANN를 만들어보세요\n",
        "- relu, relu, softmax\n",
        "- epoch 10으로 지정하세요.\n"
      ],
      "metadata": {
        "id": "VmiCalJtGW87"
      }
    },
    {
      "cell_type": "code",
      "source": [
        "import pandas as pd\n",
        "csv = pd.read_csv(\"sp500_tm.csv\")\n",
        "from sklearn.model_selection import train_test_split\n",
        "X_train, X_test, y_train, y_test = train_test_split( csv.iloc[ :, 0:3], csv.Direction,\n",
        "                                                    test_size=0.3)\n",
        "from sklearn.preprocessing import MinMaxScaler\n",
        "scaler = MinMaxScaler()\n",
        "X_train = scaler.fit_transform( X_train)\n",
        "X_test = scaler.fit_transform( X_test)\n",
        "y_train = to_categorical( y_train )\n",
        "y_test = to_categorical( y_test )\n",
        "model = Sequential()\n",
        "model.add( Dense( 8, activation=\"relu\", input_shape=(3,)) )\n",
        "model.add( Dense( 4, activation=\"relu\") )\n",
        "model.add( Dense( 2,  activation=\"softmax\"))\n",
        "model.compile( optimizer='adam', loss='categorical_crossentropy', metrics=['acc'])\n",
        "model.fit( X_train, y_train, epochs=20)\n",
        "results = model.predict(X_test)"
      ],
      "metadata": {
        "id": "fFc-izPZILt3",
        "colab": {
          "base_uri": "https://localhost:8080/"
        },
        "outputId": "bb232ffd-5eb6-4d81-de0b-f11c43df3328"
      },
      "execution_count": null,
      "outputs": [
        {
          "output_type": "stream",
          "name": "stdout",
          "text": [
            "Epoch 1/20\n",
            "3/3 [==============================] - 1s 14ms/step - loss: 0.7436 - acc: 0.4429\n",
            "Epoch 2/20\n",
            "3/3 [==============================] - 0s 7ms/step - loss: 0.7399 - acc: 0.4286\n",
            "Epoch 3/20\n",
            "3/3 [==============================] - 0s 10ms/step - loss: 0.7364 - acc: 0.4429\n",
            "Epoch 4/20\n",
            "3/3 [==============================] - 0s 7ms/step - loss: 0.7341 - acc: 0.4429\n",
            "Epoch 5/20\n",
            "3/3 [==============================] - 0s 5ms/step - loss: 0.7321 - acc: 0.4429\n",
            "Epoch 6/20\n",
            "3/3 [==============================] - 0s 5ms/step - loss: 0.7306 - acc: 0.4571\n",
            "Epoch 7/20\n",
            "3/3 [==============================] - 0s 6ms/step - loss: 0.7286 - acc: 0.4714\n",
            "Epoch 8/20\n",
            "3/3 [==============================] - 0s 6ms/step - loss: 0.7269 - acc: 0.4714\n",
            "Epoch 9/20\n",
            "3/3 [==============================] - 0s 6ms/step - loss: 0.7246 - acc: 0.4714\n",
            "Epoch 10/20\n",
            "3/3 [==============================] - 0s 6ms/step - loss: 0.7228 - acc: 0.4714\n",
            "Epoch 11/20\n",
            "3/3 [==============================] - 0s 7ms/step - loss: 0.7208 - acc: 0.4571\n",
            "Epoch 12/20\n",
            "3/3 [==============================] - 0s 8ms/step - loss: 0.7184 - acc: 0.4571\n",
            "Epoch 13/20\n",
            "3/3 [==============================] - 0s 6ms/step - loss: 0.7167 - acc: 0.4857\n",
            "Epoch 14/20\n",
            "3/3 [==============================] - 0s 6ms/step - loss: 0.7150 - acc: 0.5143\n",
            "Epoch 15/20\n",
            "3/3 [==============================] - 0s 8ms/step - loss: 0.7135 - acc: 0.5143\n",
            "Epoch 16/20\n",
            "3/3 [==============================] - 0s 10ms/step - loss: 0.7116 - acc: 0.5143\n",
            "Epoch 17/20\n",
            "3/3 [==============================] - 0s 11ms/step - loss: 0.7101 - acc: 0.5143\n",
            "Epoch 18/20\n",
            "3/3 [==============================] - 0s 7ms/step - loss: 0.7088 - acc: 0.4857\n",
            "Epoch 19/20\n",
            "3/3 [==============================] - 0s 6ms/step - loss: 0.7073 - acc: 0.4714\n",
            "Epoch 20/20\n",
            "3/3 [==============================] - 0s 11ms/step - loss: 0.7064 - acc: 0.4429\n",
            "1/1 [==============================] - 0s 128ms/step\n"
          ]
        }
      ]
    },
    {
      "cell_type": "code",
      "source": [
        "#분류 보고서\n",
        "print('\\n', classification_report(np.argmax(y_test, axis = -1), np.argmax(results, axis = -1)))\n"
      ],
      "metadata": {
        "colab": {
          "base_uri": "https://localhost:8080/"
        },
        "id": "lCE-CzOlJGMd",
        "outputId": "20a3464f-02a2-4909-a59f-59d5dc7822ba"
      },
      "execution_count": null,
      "outputs": [
        {
          "output_type": "stream",
          "name": "stdout",
          "text": [
            "\n",
            "               precision    recall  f1-score   support\n",
            "\n",
            "           0       0.44      0.47      0.45        15\n",
            "           1       0.43      0.40      0.41        15\n",
            "\n",
            "    accuracy                           0.43        30\n",
            "   macro avg       0.43      0.43      0.43        30\n",
            "weighted avg       0.43      0.43      0.43        30\n",
            "\n"
          ]
        }
      ]
    },
    {
      "cell_type": "markdown",
      "source": [
        "# 연습4: MNIST"
      ],
      "metadata": {
        "id": "-oF7PFo5CkUG"
      }
    },
    {
      "cell_type": "code",
      "source": [
        "(x_train, y_train), (x_test, y_test) = tf.keras.datasets.mnist.load_data()\n",
        "print(x_train.shape, y_train.shape,x_test.shape,y_test.shape)\n",
        "x_train.reshape(60000, 784).shape"
      ],
      "metadata": {
        "colab": {
          "base_uri": "https://localhost:8080/"
        },
        "id": "gMdbSz1l6jmg",
        "outputId": "9aa35384-ae59-4c31-8c37-f62951129ee0"
      },
      "execution_count": null,
      "outputs": [
        {
          "output_type": "stream",
          "name": "stdout",
          "text": [
            "Downloading data from https://storage.googleapis.com/tensorflow/tf-keras-datasets/mnist.npz\n",
            "11490434/11490434 [==============================] - 0s 0us/step\n",
            "(60000, 28, 28) (60000,) (10000, 28, 28) (10000,)\n"
          ]
        },
        {
          "output_type": "execute_result",
          "data": {
            "text/plain": [
              "(60000, 784)"
            ]
          },
          "metadata": {},
          "execution_count": 23
        }
      ]
    },
    {
      "cell_type": "code",
      "source": [
        "\n",
        "#random하게 5개 이미지 확인\n",
        "sample_size = 2\n",
        "random_idx = np.random.randint(60000, size = sample_size)\n",
        "\n",
        "for idx in random_idx:\n",
        "  img = x_train[idx, :]\n",
        "  label = y_train[idx]\n",
        "  plt.figure()\n",
        "  plt.imshow(img)\n",
        "  plt.title('%d-th, label: %d' %(idx, label))"
      ],
      "metadata": {
        "colab": {
          "base_uri": "https://localhost:8080/",
          "height": 887
        },
        "id": "9LURpkBw7yB1",
        "outputId": "7c54ed43-521e-4744-c66a-99919a801280"
      },
      "execution_count": null,
      "outputs": [
        {
          "output_type": "display_data",
          "data": {
            "text/plain": [
              "<Figure size 640x480 with 1 Axes>"
            ],
            "image/png": "[encoded data removed]"
          },
          "metadata": {}
        },
        {
          "output_type": "display_data",
          "data": {
            "text/plain": [
              "<Figure size 640x480 with 1 Axes>"
            ],
            "image/png": "[encoded data removed]"
          },
          "metadata": {}
        }
      ]
    },
    {
      "cell_type": "code",
      "source": [
        "# 파티셔닝: 7:3\n",
        "from sklearn.model_selection import train_test_split\n",
        "x_train,x_val,y_train,y_val = train_test_split(x_train,y_train, test_size = 0.3, random_state =1234)\n",
        "\n",
        "print(x_train.shape, y_train.shape)\n",
        "print(x_val.shape, y_val.shape)\n",
        "\n",
        "num_x_train = x_train.shape[0]\n",
        "num_x_val = x_val.shape[0]\n",
        "num_x_test = x_test.shape[0]"
      ],
      "metadata": {
        "colab": {
          "base_uri": "https://localhost:8080/"
        },
        "id": "fSJyMy7N80tD",
        "outputId": "82d9a248-9030-4ce6-d007-b365be8aa733"
      },
      "execution_count": null,
      "outputs": [
        {
          "output_type": "stream",
          "name": "stdout",
          "text": [
            "(42000, 28, 28) (42000,)\n",
            "(18000, 28, 28) (18000,)\n"
          ]
        }
      ]
    },
    {
      "cell_type": "code",
      "source": [
        "#min_max scaling / flattening\n",
        "x_train = (x_train.reshape((num_x_train, 28*28))) / 255\n",
        "x_val = (x_val.reshape((num_x_val, 28*28))) / 255\n",
        "x_test = (x_test.reshape((num_x_test, 28*28)))/ 255"
      ],
      "metadata": {
        "id": "NPNEiXz69S43"
      },
      "execution_count": null,
      "outputs": []
    },
    {
      "cell_type": "code",
      "source": [
        "#Y: one hot encoding\n",
        "from tensorflow.keras.utils import to_categorical\n",
        "y_train = to_categorical(y_train)\n",
        "y_val = to_categorical(y_val)\n",
        "y_test = to_categorical(y_test)"
      ],
      "metadata": {
        "id": "mZTSBOh_9red"
      },
      "execution_count": null,
      "outputs": []
    },
    {
      "cell_type": "code",
      "source": [
        "#모형 구성\n",
        "from tensorflow.keras.models import Sequential\n",
        "from tensorflow.keras.layers import Dense\n",
        "model = Sequential()\n",
        "# 은닉층1-입력:784, 출력 64를 표시\n",
        "model.add(Dense(64, activation = 'relu', input_shape = (784, ) ) )\n",
        "# 은닉층2-입력:32를 표시\n",
        "model.add(Dense(32, activation = 'relu')) #32개의 출력을 가지는 Dense층\n",
        "# 은닉층3-입력:10를 표시\n",
        "model.add(Dense(10, activation = 'softmax')) # 10개의 출력을 가지는 신경망\n",
        "\n",
        "# 모형 컴파일\n",
        "model.compile(optimizer = 'adam', loss = 'categorical_crossentropy', metrics = ['acc'])\n",
        "\n",
        "# 학습\n",
        "history = model.fit(x_train, y_train, epochs = 20,\n",
        "                    batch_size = 128, validation_data = (x_val,y_val))\n"
      ],
      "metadata": {
        "id": "VJEtBef4CkcV",
        "colab": {
          "base_uri": "https://localhost:8080/"
        },
        "outputId": "6ac09e8d-b698-43a7-9de0-a293c0ee6e7f"
      },
      "execution_count": null,
      "outputs": [
        {
          "output_type": "stream",
          "name": "stdout",
          "text": [
            "Epoch 1/20\n",
            "329/329 [==============================] - 5s 10ms/step - loss: 0.5259 - acc: 0.8528 - val_loss: 0.2658 - val_acc: 0.9220\n",
            "Epoch 2/20\n",
            "329/329 [==============================] - 2s 6ms/step - loss: 0.2199 - acc: 0.9364 - val_loss: 0.2060 - val_acc: 0.9386\n",
            "Epoch 3/20\n",
            "329/329 [==============================] - 2s 6ms/step - loss: 0.1720 - acc: 0.9499 - val_loss: 0.1848 - val_acc: 0.9459\n",
            "Epoch 4/20\n",
            "329/329 [==============================] - 2s 6ms/step - loss: 0.1409 - acc: 0.9593 - val_loss: 0.1684 - val_acc: 0.9475\n",
            "Epoch 5/20\n",
            "329/329 [==============================] - 1s 4ms/step - loss: 0.1198 - acc: 0.9647 - val_loss: 0.1450 - val_acc: 0.9579\n",
            "Epoch 6/20\n",
            "329/329 [==============================] - 2s 5ms/step - loss: 0.1011 - acc: 0.9702 - val_loss: 0.1369 - val_acc: 0.9599\n",
            "Epoch 7/20\n",
            "329/329 [==============================] - 1s 4ms/step - loss: 0.0895 - acc: 0.9736 - val_loss: 0.1241 - val_acc: 0.9633\n",
            "Epoch 8/20\n",
            "329/329 [==============================] - 1s 4ms/step - loss: 0.0792 - acc: 0.9768 - val_loss: 0.1177 - val_acc: 0.9660\n",
            "Epoch 9/20\n",
            "329/329 [==============================] - 2s 5ms/step - loss: 0.0674 - acc: 0.9800 - val_loss: 0.1270 - val_acc: 0.9624\n",
            "Epoch 10/20\n",
            "329/329 [==============================] - 1s 4ms/step - loss: 0.0612 - acc: 0.9815 - val_loss: 0.1163 - val_acc: 0.9651\n",
            "Epoch 11/20\n",
            "329/329 [==============================] - 3s 8ms/step - loss: 0.0548 - acc: 0.9836 - val_loss: 0.1135 - val_acc: 0.9668\n",
            "Epoch 12/20\n",
            "329/329 [==============================] - 2s 7ms/step - loss: 0.0484 - acc: 0.9854 - val_loss: 0.1149 - val_acc: 0.9666\n",
            "Epoch 13/20\n",
            "329/329 [==============================] - 2s 5ms/step - loss: 0.0444 - acc: 0.9867 - val_loss: 0.1141 - val_acc: 0.9672\n",
            "Epoch 14/20\n",
            "329/329 [==============================] - 1s 4ms/step - loss: 0.0391 - acc: 0.9883 - val_loss: 0.1140 - val_acc: 0.9682\n",
            "Epoch 15/20\n",
            "329/329 [==============================] - 1s 4ms/step - loss: 0.0347 - acc: 0.9900 - val_loss: 0.1274 - val_acc: 0.9648\n",
            "Epoch 16/20\n",
            "329/329 [==============================] - 1s 4ms/step - loss: 0.0305 - acc: 0.9912 - val_loss: 0.1168 - val_acc: 0.9681\n",
            "Epoch 17/20\n",
            "329/329 [==============================] - 1s 4ms/step - loss: 0.0277 - acc: 0.9924 - val_loss: 0.1205 - val_acc: 0.9672\n",
            "Epoch 18/20\n",
            "329/329 [==============================] - 1s 4ms/step - loss: 0.0236 - acc: 0.9935 - val_loss: 0.1181 - val_acc: 0.9687\n",
            "Epoch 19/20\n",
            "329/329 [==============================] - 2s 5ms/step - loss: 0.0236 - acc: 0.9928 - val_loss: 0.1306 - val_acc: 0.9663\n",
            "Epoch 20/20\n",
            "329/329 [==============================] - 2s 7ms/step - loss: 0.0220 - acc: 0.9935 - val_loss: 0.1211 - val_acc: 0.9692\n"
          ]
        }
      ]
    },
    {
      "cell_type": "markdown",
      "source": [
        "- 현재 은닉층은 64-32-10 구성인데, 이 부분을 64-32-16-10으로 변경해보세요\n",
        "- epcohs를 40으로 변경해보세요\n",
        "- batch_size=256으로 지정해보세요.\n",
        "-학습과정에서 오버피팅 발생하는 epoch도 찾아보세요"
      ],
      "metadata": {
        "id": "clJ1BOnyBLgz"
      }
    },
    {
      "cell_type": "code",
      "source": [
        "results = model.predict(x_test)\n",
        "confusion_matrix(np.argmax(y_test, axis = -1), np.argmax(results, axis = -1))"
      ],
      "metadata": {
        "colab": {
          "base_uri": "https://localhost:8080/"
        },
        "id": "3lzMX3VmAiGv",
        "outputId": "461e4f5f-cb01-4c43-c4e4-c2d20b668ebb"
      },
      "execution_count": null,
      "outputs": [
        {
          "output_type": "stream",
          "name": "stdout",
          "text": [
            "313/313 [==============================] - 2s 4ms/step\n"
          ]
        },
        {
          "output_type": "execute_result",
          "data": {
            "text/plain": [
              "array([[ 966,    0,    2,    2,    1,    2,    3,    1,    3,    0],\n",
              "       [   0, 1122,    4,    0,    0,    1,    2,    0,    6,    0],\n",
              "       [   5,    3, 1001,    4,    1,    0,    4,    4,   10,    0],\n",
              "       [   1,    1,    7,  974,    0,    5,    0,    8,   11,    3],\n",
              "       [   2,    0,    5,    0,  953,    1,    5,    3,    0,   13],\n",
              "       [   2,    1,    0,   10,    1,  869,    8,    1,    0,    0],\n",
              "       [   5,    4,    2,    1,    6,    4,  932,    1,    3,    0],\n",
              "       [   1,    8,    7,    8,    2,    0,    0,  988,    1,   13],\n",
              "       [   3,    1,    3,    6,    6,    8,    2,    6,  936,    3],\n",
              "       [   4,    1,    1,   13,   10,    8,    1,    6,    7,  958]])"
            ]
          },
          "metadata": {},
          "execution_count": 31
        }
      ]
    },
    {
      "cell_type": "markdown",
      "source": [
        "- Confusion Matrix"
      ],
      "metadata": {
        "id": "X2Zo0Y8_Cnv8"
      }
    },
    {
      "cell_type": "code",
      "source": [
        "from sklearn.metrics import classification_report, confusion_matrix\n",
        "import matplotlib.pyplot as plt\n",
        "import seaborn as sns\n",
        "results = model.predict( x_test)\n",
        "#혼동행렬을 만듬.\n",
        "plt.figure(figsize = (7,7))\n",
        "cm = confusion_matrix(np.argmax(y_test, axis = -1), np.argmax(results, axis = -1))\n",
        "sns.heatmap(cm, annot = True, fmt = 'd')\n",
        "plt.xlabel('predicted')\n",
        "plt.ylabel('actual')\n",
        "plt.show()\n",
        "\n",
        "#분류 보고서\n",
        "print('\\n', classification_report(np.argmax(y_test, axis = -1), np.argmax(results, axis = -1)))\n",
        "\n",
        "\n"
      ],
      "metadata": {
        "colab": {
          "base_uri": "https://localhost:8080/",
          "height": 964
        },
        "id": "YfExEsdiCmw3",
        "outputId": "11abb73c-75cf-4da2-9962-f444443ec960"
      },
      "execution_count": null,
      "outputs": [
        {
          "output_type": "stream",
          "name": "stdout",
          "text": [
            "313/313 [==============================] - 2s 6ms/step\n"
          ]
        },
        {
          "output_type": "display_data",
          "data": {
            "text/plain": [
              "<Figure size 700x700 with 2 Axes>"
            ],
            "image/png": "[encoded data removed]"
          },
          "metadata": {}
        },
        {
          "output_type": "stream",
          "name": "stdout",
          "text": [
            "\n",
            "               precision    recall  f1-score   support\n",
            "\n",
            "           0       0.98      0.99      0.98       980\n",
            "           1       0.98      0.99      0.99      1135\n",
            "           2       0.97      0.97      0.97      1032\n",
            "           3       0.96      0.96      0.96      1010\n",
            "           4       0.97      0.97      0.97       982\n",
            "           5       0.97      0.97      0.97       892\n",
            "           6       0.97      0.97      0.97       958\n",
            "           7       0.97      0.96      0.97      1028\n",
            "           8       0.96      0.96      0.96       974\n",
            "           9       0.97      0.95      0.96      1009\n",
            "\n",
            "    accuracy                           0.97     10000\n",
            "   macro avg       0.97      0.97      0.97     10000\n",
            "weighted avg       0.97      0.97      0.97     10000\n",
            "\n"
          ]
        }
      ]
    }
  ]
}