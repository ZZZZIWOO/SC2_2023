{
  "nbformat": 4,
  "nbformat_minor": 0,
  "metadata": {
    "colab": {
      "provenance": []
    },
    "kernelspec": {
      "name": "python3",
      "display_name": "Python 3"
    },
    "language_info": {
      "name": "python"
    }
  },
  "cells": [
    {
      "cell_type": "markdown",
      "source": [
        "# 1. 모기지 부도 예측\n",
        "- 2004~2006년 모기지 데이터, 앙상블 모형을 활용하여 피팅\n",
        "- 2007년에 대한 예측, 성능 비교\n",
        "- 2008년에 대한 예측, 성능 비교\n",
        "- 2009년에 대한 예측, 성능 비교\n",
        "- 모형 피팅 시 파라미터 Search\n",
        "- 여러 파일을 읽을 때에는 폴더를 생성하고 해당 폴더에 파일을 업로드한 후 아래 코드를 참고하세요\n",
        "\n"
      ],
      "metadata": {
        "id": "Wd2UU50Rf35h"
      }
    },
    {
      "cell_type": "code",
      "source": [
        "#폴더 생성 후(예: mort ) zip파일 업로드\n",
        "!unzip mortDefault2004_6.zip\n",
        "\n",
        "import os\n",
        "import pandas as pd\n",
        "files = os.listdir(\"mort\")\n",
        "\n",
        "mortDefault = pd.DataFrame()\n",
        "\n",
        "for i in files:\n",
        "  tmp = pd.read_csv(\"mort/\"+ i )\n",
        "  mortDefault = pd.concat([mortDefault, tmp])\n",
        "\n",
        "mortDefault.shape"
      ],
      "metadata": {
        "id": "Wk0g9QcWHQDc"
      },
      "execution_count": null,
      "outputs": []
    },
    {
      "cell_type": "code",
      "execution_count": null,
      "metadata": {
        "id": "pc7DMvM5f1iP"
      },
      "outputs": [],
      "source": []
    },
    {
      "cell_type": "markdown",
      "source": [
        "#2. 신용카드 승인 예측\n",
        "- SMOTE를 활용\n",
        "- pycaret 활용하여 모형 탐색\n",
        "- 나뉘어진 두 데이터를 결합: merge\n",
        " - 두 데이터는 ID로 Merge할 수 있음\n",
        " - 예: pd.merge( 데이터프레임1, 데이터프레임2, on=\"공통컬럼명\")\n",
        "- 출처: Kaggle, https://www.kaggle.com/datasets/rikdifos/credit-card-approval-prediction\n"
      ],
      "metadata": {
        "id": "P6N69WSRhz7M"
      }
    },
    {
      "cell_type": "code",
      "source": [],
      "metadata": {
        "id": "SGMMpd4Uh0P1"
      },
      "execution_count": null,
      "outputs": []
    },
    {
      "cell_type": "markdown",
      "source": [
        "#3. 그래프 + 분류\n",
        "- cora.cites를 읽어서 그래프를 생성\n",
        "- cora.contents는 각 노드가 갖는 특성\n",
        "- cora.cites의 그래프 metric을 cora.contents의 변수로 추가, 분야에 대한 분류모형에 적용"
      ],
      "metadata": {
        "id": "-3uG56_Gh0XD"
      }
    },
    {
      "cell_type": "code",
      "source": [],
      "metadata": {
        "id": "avUGwnZyh0dt"
      },
      "execution_count": null,
      "outputs": []
    },
    {
      "cell_type": "markdown",
      "source": [
        "#4. 추천+그래프\n",
        "- movies.csv를 읽고, IBCF, UBCF, SVD 등의 추천을 적용\n",
        "- 적용 시, 데이터는 8:2 파티셔닝을 수행하며 각 모형별 rmse를 비교\n",
        "- movies.csv에서 user들간의 cosine similarity가 0.5보다 큰 관계에 대한 그래프를 생성하세요\n",
        " - 아래 코드를 참고해보세요.\n"
      ],
      "metadata": {
        "id": "HShoj6Mah0jr"
      }
    },
    {
      "cell_type": "code",
      "source": [
        "import pandas as pd\n",
        "from sklearn.metrics.pairwise import cosine_similarity\n",
        "\n",
        "df = pd.read_csv(\"movies.csv\")\n",
        "df2 = df.pivot(index=\"userId\", columns=\"title\", values=\"rating\").fillna(0)\n",
        "df2.head()"
      ],
      "metadata": {
        "id": "kpLIAndWh0qk"
      },
      "execution_count": null,
      "outputs": []
    }
  ]
}